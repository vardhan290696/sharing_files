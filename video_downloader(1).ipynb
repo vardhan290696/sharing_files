{
 "cells": [
  {
   "cell_type": "code",
   "execution_count": null,
   "id": "da36aee2",
   "metadata": {},
   "outputs": [],
   "source": [
    "from tkinter import *\n",
    "import pytube \n",
    "# import os\n",
    "root = Tk()\n",
    "root.title(\"Youtube Video Downloader\")\n",
    "root.geometry('400x200')\n",
    "\n",
    "def button_command():\n",
    "    try:\n",
    "        text=entry1.get()\n",
    "        # n_download_complete=popup_complete\n",
    "        yt=pytube.YouTube(text)\n",
    "        st=yt.streams.filter(progressive=True, file_extension='mp4').first()\n",
    "        down=st.download()\n",
    "        popup_complete()\n",
    "    except:\n",
    "        popup_complete(1)\n",
    "\n",
    "def popup_complete(text=0):\n",
    "    # window=Tk()\n",
    "    if text == 1:\n",
    "        title = \"Download InComplete\"\n",
    "        text = \"Your Video \\nDownloaded Incompleted\" \n",
    "    else:\n",
    "        title=\"Download Complete\"\n",
    "        text=\"Your Video \\nDownloaded Successfully\"\n",
    "\n",
    "    popupwindow=Toplevel(root)\n",
    "    popupwindow.title(title)\n",
    "    popupwindow.geometry(\"200x100\")\n",
    "    alert = Label(popupwindow,text=text)\n",
    "    button2 = Button(popupwindow, text=\"Ok\",command=popupwindow.destroy)\n",
    "    alert.pack()\n",
    "    button2.pack()\n",
    "    popupwindow.mainloop()\n",
    "\n",
    "def button_command_exit():\n",
    "    exit()\n",
    "\n",
    "Label(root,text=\"Paste your link here\",font=\"comicsansms 13 bold\",pady=15).pack()\n",
    "entry1 = Entry(root,width=200)\n",
    "entry1.pack()\n",
    "Button(root,text=\"Download\",command=button_command,width=20,).pack()\n",
    "Button(root,text=\"Exit\",command=button_command_exit,width=20).pack()\n",
    "root.mainloop()"
   ]
  }
 ],
 "metadata": {
  "kernelspec": {
   "display_name": "Python 3 (ipykernel)",
   "language": "python",
   "name": "python3"
  },
  "language_info": {
   "codemirror_mode": {
    "name": "ipython",
    "version": 3
   },
   "file_extension": ".py",
   "mimetype": "text/x-python",
   "name": "python",
   "nbconvert_exporter": "python",
   "pygments_lexer": "ipython3",
   "version": "3.8.10"
  }
 },
 "nbformat": 4,
 "nbformat_minor": 5
}
#hello
