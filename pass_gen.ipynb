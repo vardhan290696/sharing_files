{
 "cells": [
  {
   "cell_type": "code",
   "execution_count": 1,
   "id": "1d7de4af",
   "metadata": {},
   "outputs": [
    {
     "name": "stdout",
     "output_type": "stream",
     "text": [
      "\n",
      "\n",
      "-----Password Generator------\n",
      "\n",
      "enter the password length: 10\n",
      "\n",
      "Choose the option\n",
      "1.Add Punctuations\n",
      "2.Without Punctuations\n",
      "option: 2\n",
      "\n",
      "You Random password of length 10 is ready\n",
      "without Punctuations\n",
      "\n",
      "OdEavXmrfC\n"
     ]
    }
   ],
   "source": [
    "import random\n",
    "import string\n",
    "\n",
    "def pass_gen(pass_len,opt_choosen):\n",
    "    char_list=list(string.ascii_letters)\n",
    "    digit_list=list(string.digits)\n",
    "    special_list=list(string.punctuation)\n",
    "    all_list=char_list+digit_list\n",
    "    print(\"\\nYou Random password of length\",pass_len,\"is ready\")\n",
    "    if opt_choosen == 1:\n",
    "        all_list=all_list+special_list\n",
    "        print(\"with Punctuations\\n\")\n",
    "    else:\n",
    "        print(\"without Punctuations\\n\")\n",
    "    random.shuffle(all_list)\n",
    "    print(\"\".join(all_list[:pass_len]))\n",
    "\n",
    "print(\"\\n\\n-----Password Generator------\\n\")\n",
    "try:\n",
    "    pass_len=int(input(\"enter the password length: \"))\n",
    "    if pass_len<1:\n",
    "        print(\"enter positive value\")\n",
    "        exit()\n",
    "    print(\"\\nChoose the option\")\n",
    "    print(\"1.Add Punctuations\")\n",
    "    print(\"2.Without Punctuations\")\n",
    "    option_list=[1,2]\n",
    "    try:\n",
    "        opt_choose=int(input(\"option: \"))\n",
    "    except:\n",
    "        print(\"Try again with correct value please!\")\n",
    "    if opt_choose in option_list:\n",
    "        pass_gen(pass_len,opt_choose)\n",
    "    else:\n",
    "        print(\"Choose the option from the above\")\n",
    "        exit()\n",
    "except:\n",
    "    print(\"Try again with correct value please\")\n",
    "\n",
    "\n"
   ]
  },
  {
   "cell_type": "code",
   "execution_count": null,
   "id": "488549b8",
   "metadata": {},
   "outputs": [],
   "source": []
  }
 ],
 "metadata": {
  "kernelspec": {
   "display_name": "Python 3 (ipykernel)",
   "language": "python",
   "name": "python3"
  },
  "language_info": {
   "codemirror_mode": {
    "name": "ipython",
    "version": 3
   },
   "file_extension": ".py",
   "mimetype": "text/x-python",
   "name": "python",
   "nbconvert_exporter": "python",
   "pygments_lexer": "ipython3",
   "version": "3.8.10"
  }
 },
 "nbformat": 4,
 "nbformat_minor": 5
}
